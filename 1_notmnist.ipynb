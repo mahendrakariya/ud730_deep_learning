{
 "cells": [
  {
   "cell_type": "markdown",
   "metadata": {
    "colab_type": "text",
    "id": "5hIbr52I7Z7U"
   },
   "source": [
    "Deep Learning\n",
    "=============\n",
    "\n",
    "Assignment 1\n",
    "------------\n",
    "\n",
    "The objective of this assignment is to learn about simple data curation practices, and familiarize you with some of the data we'll be reusing later.\n",
    "\n",
    "This notebook uses the [notMNIST](http://yaroslavvb.blogspot.com/2011/09/notmnist-dataset.html) dataset to be used with python experiments. This dataset is designed to look like the classic [MNIST](http://yann.lecun.com/exdb/mnist/) dataset, while looking a little more like real data: it's a harder task, and the data is a lot less 'clean' than MNIST."
   ]
  },
  {
   "cell_type": "code",
   "execution_count": 1,
   "metadata": {
    "cellView": "both",
    "colab": {
     "autoexec": {
      "startup": false,
      "wait_interval": 0
     }
    },
    "colab_type": "code",
    "collapsed": false,
    "id": "apJbCsBHl-2A"
   },
   "outputs": [],
   "source": [
    "# These are all the modules we'll be using later. Make sure you can import them\n",
    "# before proceeding further.\n",
    "from __future__ import print_function\n",
    "import matplotlib.pyplot as plt\n",
    "import numpy as np\n",
    "import os\n",
    "import sys\n",
    "import tarfile\n",
    "from IPython.display import display, Image\n",
    "from scipy import ndimage\n",
    "from sklearn.linear_model import LogisticRegression\n",
    "from six.moves.urllib.request import urlretrieve\n",
    "from six.moves import cPickle as pickle\n",
    "\n",
    "# Config the matlotlib backend as plotting inline in IPython\n",
    "%matplotlib inline"
   ]
  },
  {
   "cell_type": "markdown",
   "metadata": {
    "colab_type": "text",
    "id": "jNWGtZaXn-5j"
   },
   "source": [
    "First, we'll download the dataset to our local machine. The data consists of characters rendered in a variety of fonts on a 28x28 image. The labels are limited to 'A' through 'J' (10 classes). The training set has about 500k and the testset 19000 labelled examples. Given these sizes, it should be possible to train models quickly on any machine."
   ]
  },
  {
   "cell_type": "code",
   "execution_count": 4,
   "metadata": {
    "cellView": "both",
    "colab": {
     "autoexec": {
      "startup": false,
      "wait_interval": 0
     },
     "output_extras": [
      {
       "item_id": 1
      }
     ]
    },
    "colab_type": "code",
    "collapsed": false,
    "executionInfo": {
     "elapsed": 186058,
     "status": "ok",
     "timestamp": 1444485672507,
     "user": {
      "color": "#1FA15D",
      "displayName": "Vincent Vanhoucke",
      "isAnonymous": false,
      "isMe": true,
      "permissionId": "05076109866853157986",
      "photoUrl": "//lh6.googleusercontent.com/-cCJa7dTDcgQ/AAAAAAAAAAI/AAAAAAAACgw/r2EZ_8oYer4/s50-c-k-no/photo.jpg",
      "sessionId": "2a0a5e044bb03b66",
      "userId": "102167687554210253930"
     },
     "user_tz": 420
    },
    "id": "EYRJ4ICW6-da",
    "outputId": "0d0f85df-155f-4a89-8e7e-ee32df36ec8d"
   },
   "outputs": [
    {
     "name": "stdout",
     "output_type": "stream",
     "text": [
      "Found and verified notMNIST_large.tar.gz\n",
      "Found and verified notMNIST_small.tar.gz\n"
     ]
    }
   ],
   "source": [
    "url = 'http://commondatastorage.googleapis.com/books1000/'\n",
    "last_percent_reported = None\n",
    "\n",
    "def download_progress_hook(count, blockSize, totalSize):\n",
    "  \"\"\"A hook to report the progress of a download. This is mostly intended for users with\n",
    "  slow internet connections. Reports every 1% change in download progress.\n",
    "  \"\"\"\n",
    "  global last_percent_reported\n",
    "  percent = int(count * blockSize * 100 / totalSize)\n",
    "\n",
    "  if last_percent_reported != percent:\n",
    "    if percent % 5 == 0:\n",
    "      sys.stdout.write(\"%s%%\" % percent)\n",
    "      sys.stdout.flush()\n",
    "    else:\n",
    "      sys.stdout.write(\".\")\n",
    "      sys.stdout.flush()\n",
    "      \n",
    "    last_percent_reported = percent\n",
    "        \n",
    "def maybe_download(filename, expected_bytes, force=False):\n",
    "  \"\"\"Download a file if not present, and make sure it's the right size.\"\"\"\n",
    "  if force or not os.path.exists(filename):\n",
    "    print('Attempting to download:', filename) \n",
    "    filename, _ = urlretrieve(url + filename, filename, reporthook=download_progress_hook)\n",
    "    print('\\nDownload Complete!')\n",
    "  statinfo = os.stat(filename)\n",
    "  if statinfo.st_size == expected_bytes:\n",
    "    print('Found and verified', filename)\n",
    "  else:\n",
    "    raise Exception(\n",
    "      'Failed to verify ' + filename + '. Can you get to it with a browser?')\n",
    "  return filename\n",
    "\n",
    "train_filename = maybe_download('notMNIST_large.tar.gz', 247336696)\n",
    "test_filename = maybe_download('notMNIST_small.tar.gz', 8458043)"
   ]
  },
  {
   "cell_type": "markdown",
   "metadata": {
    "colab_type": "text",
    "id": "cC3p0oEyF8QT"
   },
   "source": [
    "Extract the dataset from the compressed .tar.gz file.\n",
    "This should give you a set of directories, labelled A through J."
   ]
  },
  {
   "cell_type": "code",
   "execution_count": 5,
   "metadata": {
    "cellView": "both",
    "colab": {
     "autoexec": {
      "startup": false,
      "wait_interval": 0
     },
     "output_extras": [
      {
       "item_id": 1
      }
     ]
    },
    "colab_type": "code",
    "collapsed": false,
    "executionInfo": {
     "elapsed": 186055,
     "status": "ok",
     "timestamp": 1444485672525,
     "user": {
      "color": "#1FA15D",
      "displayName": "Vincent Vanhoucke",
      "isAnonymous": false,
      "isMe": true,
      "permissionId": "05076109866853157986",
      "photoUrl": "//lh6.googleusercontent.com/-cCJa7dTDcgQ/AAAAAAAAAAI/AAAAAAAACgw/r2EZ_8oYer4/s50-c-k-no/photo.jpg",
      "sessionId": "2a0a5e044bb03b66",
      "userId": "102167687554210253930"
     },
     "user_tz": 420
    },
    "id": "H8CBE-WZ8nmj",
    "outputId": "ef6c790c-2513-4b09-962e-27c79390c762"
   },
   "outputs": [
    {
     "name": "stdout",
     "output_type": "stream",
     "text": [
      "notMNIST_large already present - Skipping extraction of notMNIST_large.tar.gz.\n",
      "['notMNIST_large/A', 'notMNIST_large/B', 'notMNIST_large/C', 'notMNIST_large/D', 'notMNIST_large/E', 'notMNIST_large/F', 'notMNIST_large/G', 'notMNIST_large/H', 'notMNIST_large/I', 'notMNIST_large/J']\n",
      "notMNIST_small already present - Skipping extraction of notMNIST_small.tar.gz.\n",
      "['notMNIST_small/A', 'notMNIST_small/B', 'notMNIST_small/C', 'notMNIST_small/D', 'notMNIST_small/E', 'notMNIST_small/F', 'notMNIST_small/G', 'notMNIST_small/H', 'notMNIST_small/I', 'notMNIST_small/J']\n"
     ]
    }
   ],
   "source": [
    "num_classes = 10\n",
    "np.random.seed(133)\n",
    "\n",
    "def maybe_extract(filename, force=False):\n",
    "  root = os.path.splitext(os.path.splitext(filename)[0])[0]  # remove .tar.gz\n",
    "  if os.path.isdir(root) and not force:\n",
    "    # You may override by setting force=True.\n",
    "    print('%s already present - Skipping extraction of %s.' % (root, filename))\n",
    "  else:\n",
    "    print('Extracting data for %s. This may take a while. Please wait.' % root)\n",
    "    tar = tarfile.open(filename)\n",
    "    sys.stdout.flush()\n",
    "    tar.extractall()\n",
    "    tar.close()\n",
    "  data_folders = [\n",
    "    os.path.join(root, d) for d in sorted(os.listdir(root))\n",
    "    if os.path.isdir(os.path.join(root, d))]\n",
    "  if len(data_folders) != num_classes:\n",
    "    raise Exception(\n",
    "      'Expected %d folders, one per class. Found %d instead.' % (\n",
    "        num_classes, len(data_folders)))\n",
    "  print(data_folders)\n",
    "  return data_folders\n",
    "  \n",
    "train_folders = maybe_extract(train_filename)\n",
    "test_folders = maybe_extract(test_filename)"
   ]
  },
  {
   "cell_type": "markdown",
   "metadata": {
    "colab_type": "text",
    "id": "4riXK3IoHgx6"
   },
   "source": [
    "\n",
    "Problem 1\n",
    "---------\n",
    "\n",
    "Let's take a peek at some of the data to make sure it looks sensible. Each exemplar should be an image of a character A through J rendered in a different font. Display a sample of the images that we just downloaded. Hint: you can use the package IPython.display.\n",
    "\n"
   ]
  },
  {
   "cell_type": "code",
   "execution_count": 33,
   "metadata": {
    "collapsed": false
   },
   "outputs": [
    {
     "data": {
      "text/html": [
       "<img style='margin: 2px; float: left;' src='notMNIST_large/A/R3VhcmRpTFRTdGQtQm9sZEl0YWxpYy5vdGY=.png' /><img style='margin: 2px; float: left;' src='notMNIST_large/A/TWFzb25pYy1Sb21hbi5vdGY=.png' /><img style='margin: 2px; float: left;' src='notMNIST_large/A/SGVsdmV0aWNhTmV1ZUxUU3RkLVVsdEx0SXQub3Rm.png' /><img style='margin: 2px; float: left;' src='notMNIST_large/A/QmVuZ3VpYXRHb3RoaWNFRi1Cb29rSXRhbGljLm90Zg==.png' /><img style='margin: 2px; float: left;' src='notMNIST_large/A/SmV0dGEudHRm.png' /><img style='margin: 2px; float: left;' src='notMNIST_large/A/UHJvdkxpdGUgQm9sZC50dGY=.png' /><img style='margin: 2px; float: left;' src='notMNIST_large/A/em9ya29uLnR0Zg==.png' /><img style='margin: 2px; float: left;' src='notMNIST_large/A/QXJ0YW5lIEVsb25nYXRlZCBCVC50dGY=.png' /><img style='margin: 2px; float: left;' src='notMNIST_large/A/Q2hpbnllbiBOb3JtYWwudHRm.png' /><img style='margin: 2px; float: left;' src='notMNIST_large/A/UmV2aXZhbCA1NjUgSXRhbGljLnBmYg==.png' /><img style='margin: 2px; float: left;' src='notMNIST_large/A/QWV0ZXJuYSBDYXBzIFNTaS50dGY=.png' /><img style='margin: 2px; float: left;' src='notMNIST_large/A/RWxsaW5ndG9uIE1UIExpZ2h0IEl0YWxpYy50dGY=.png' /><img style='margin: 2px; float: left;' src='notMNIST_large/A/TEhGIFRpbWJlcmxvZGdlLnR0Zg==.png' /><img style='margin: 2px; float: left;' src='notMNIST_large/A/VGVycnlzSGFuZC50dGY=.png' /><img style='margin: 2px; float: left;' src='notMNIST_large/A/TGVnYWN5U2FuSVRDLUJvbGRPUy5vdGY=.png' /><img style='margin: 2px; float: left;' src='notMNIST_large/A/SW5mb09mZmljZS1NZWRpdW0ub3Rm.png' /><img style='margin: 2px; float: left;' src='notMNIST_large/A/UGx5bW91dGgtQm9sZC5vdGY=.png' /><img style='margin: 2px; float: left;' src='notMNIST_large/A/SGllcm9nbHlwaGljUGhvbmV0aWMub3Rm.png' /><img style='margin: 2px; float: left;' src='notMNIST_large/A/TGVDb2NoaW5CUS1NZWRpdW0ub3Rm.png' /><img style='margin: 2px; float: left;' src='notMNIST_large/A/RnV0dXJhRUYtRXh0cmFCb2xkU2hhZG93ZWQub3Rm.png' />"
      ],
      "text/plain": [
       "<IPython.core.display.HTML object>"
      ]
     },
     "metadata": {},
     "output_type": "display_data"
    },
    {
     "data": {
      "text/html": [
       "<img style='margin: 2px; float: left;' src='notMNIST_large/B/SVRDR2FyYW1vbmRTdGQtQmROYXJyb3dJdGEub3Rm.png' /><img style='margin: 2px; float: left;' src='notMNIST_large/B/RXVyb3BlLm90Zg==.png' /><img style='margin: 2px; float: left;' src='notMNIST_large/B/WHRyYW9yZGluYXJ5LnR0Zg==.png' /><img style='margin: 2px; float: left;' src='notMNIST_large/B/SVRDIEF2YW50IEdhcmRlIEdvdGhpYyBCb2xkLnBmYg==.png' /><img style='margin: 2px; float: left;' src='notMNIST_large/B/S2VlcCBvbiBUcnVja2luJ0ZXLnR0Zg==.png' /><img style='margin: 2px; float: left;' src='notMNIST_large/B/Q29vcGVyIEJsYWNrIEl0YWxpYyBIZWFkbGluZSBCVC50dGY=.png' /><img style='margin: 2px; float: left;' src='notMNIST_large/B/RnJ1dGlnZXJMVFN0ZC1CbGFja0l0YWxpYy5vdGY=.png' /><img style='margin: 2px; float: left;' src='notMNIST_large/B/THViYWxpbkdyYXBoRUYtTWVkaUNvbmQub3Rm.png' /><img style='margin: 2px; float: left;' src='notMNIST_large/B/Q2xlYXJmYWNlQ29udG91ci5vdGY=.png' /><img style='margin: 2px; float: left;' src='notMNIST_large/B/TG9vcERlTG9vcC50dGY=.png' /><img style='margin: 2px; float: left;' src='notMNIST_large/B/MlBlYXMgRmxlYSBNYXJrZXQudHRm.png' /><img style='margin: 2px; float: left;' src='notMNIST_large/B/RmFsc3RhZmZGZXN0aXZhbE1UU3RkLm90Zg==.png' /><img style='margin: 2px; float: left;' src='notMNIST_large/B/S2lzIEJULnR0Zg==.png' /><img style='margin: 2px; float: left;' src='notMNIST_large/B/SGFuc2VsRUYtUmVndWxhci5vdGY=.png' /><img style='margin: 2px; float: left;' src='notMNIST_large/B/UGFyaXNpYW4gQm9sZCBJdGFsaWMudHRm.png' /><img style='margin: 2px; float: left;' src='notMNIST_large/B/Um9yeSBUaGluIE5vcm1hbC50dGY=.png' /><img style='margin: 2px; float: left;' src='notMNIST_large/B/RGlja2ViZXJ0YS5vdGY=.png' /><img style='margin: 2px; float: left;' src='notMNIST_large/B/RG9vbXNEYXkub3Rm.png' /><img style='margin: 2px; float: left;' src='notMNIST_large/B/VGVjaG5pY3puYVBvbW9jLnR0Zg==.png' /><img style='margin: 2px; float: left;' src='notMNIST_large/B/SXZ5TGVhZ3VlRXh0ZW5kZWRTb2xpZC50dGY=.png' />"
      ],
      "text/plain": [
       "<IPython.core.display.HTML object>"
      ]
     },
     "metadata": {},
     "output_type": "display_data"
    },
    {
     "data": {
      "text/html": [
       "<img style='margin: 2px; float: left;' src='notMNIST_large/C/UHJvc2VBbnRpcXVlLnR0Zg==.png' /><img style='margin: 2px; float: left;' src='notMNIST_large/C/R2FyYW1vbmRQcmVtclByby1MdEl0RGlzcC5vdGY=.png' /><img style='margin: 2px; float: left;' src='notMNIST_large/C/S2F0YWxvZ3ppZmZlcm5OZWdhdGl2QlEub3Rm.png' /><img style='margin: 2px; float: left;' src='notMNIST_large/C/TGlub3R5cGVVbml2ZXJzLUV4dGRNZWRpdW0ub3Rm.png' /><img style='margin: 2px; float: left;' src='notMNIST_large/C/U2NoYWRvdyBCb2xkLnBmYg==.png' /><img style='margin: 2px; float: left;' src='notMNIST_large/C/TUJhc2tlcnZpbGxlLUl0YWxpYy5vdGY=.png' /><img style='margin: 2px; float: left;' src='notMNIST_large/C/QmVydGhvbGQgSW1hZ28gRXh0cmEgQm9sZCBJdGFsaWMudHRm.png' /><img style='margin: 2px; float: left;' src='notMNIST_large/C/U2FsemJ1cmctUmVndWxhci5vdGY=.png' /><img style='margin: 2px; float: left;' src='notMNIST_large/C/RnV0dXJpc3QgQm9sZCBJdGFsaWMudHRm.png' /><img style='margin: 2px; float: left;' src='notMNIST_large/C/Q2hyaXN0aWFuIENyb3NzZXMudHRm.png' /><img style='margin: 2px; float: left;' src='notMNIST_large/C/S2V5Ym9hcmQgQ29uZGVuc2VkQWx0IFNTaSBCb2xkIENvbmRlbnNlZCBBbHRlcm5hdGUudHRm.png' /><img style='margin: 2px; float: left;' src='notMNIST_large/C/Q2VudHVyeU5vdmFCUS5vdGY=.png' /><img style='margin: 2px; float: left;' src='notMNIST_large/C/TWNLbG91ZCBUZW1wZXN0LnR0Zg==.png' /><img style='margin: 2px; float: left;' src='notMNIST_large/C/STJDeWJvcmdDbGFzc2ljLnR0Zg==.png' /><img style='margin: 2px; float: left;' src='notMNIST_large/C/UVRBbmNpZW50T2xpdmUgQm9sZC50dGY=.png' /><img style='margin: 2px; float: left;' src='notMNIST_large/C/R3JlZ29yaWFuX19LSy50dGY=.png' /><img style='margin: 2px; float: left;' src='notMNIST_large/C/U3RvbmVJbmZTZW1JVEMtU2VtaS5vdGY=.png' /><img style='margin: 2px; float: left;' src='notMNIST_large/C/VlRDU3VuZGF5a29taXhjYXBzLnR0Zg==.png' /><img style='margin: 2px; float: left;' src='notMNIST_large/C/U0YgU3BvcnRzIE5pZ2h0IEFsdGVybmF0ZS50dGY=.png' /><img style='margin: 2px; float: left;' src='notMNIST_large/C/RWxkb3JhZG9UZXh0LVJvbWFuLm90Zg==.png' />"
      ],
      "text/plain": [
       "<IPython.core.display.HTML object>"
      ]
     },
     "metadata": {},
     "output_type": "display_data"
    },
    {
     "data": {
      "text/html": [
       "<img style='margin: 2px; float: left;' src='notMNIST_large/D/TmV3Q2VudHVyeVNjaGxia0xUU3RkLUJkSXQub3Rm.png' /><img style='margin: 2px; float: left;' src='notMNIST_large/D/U0YgQWZ0ZXJzaG9jayBEZWJyaXMgQ29uZGVuc2VkIEl0YWxpYy50dGY=.png' /><img style='margin: 2px; float: left;' src='notMNIST_large/D/RnJlaWdodFRleHQgTGlnaHRJdGFsaWMudHRm.png' /><img style='margin: 2px; float: left;' src='notMNIST_large/D/TEhGIFBpbHNuZXIgUmVndWxhci50dGY=.png' /><img style='margin: 2px; float: left;' src='notMNIST_large/D/RXVyb21vZGUgSXRhbGljLnR0Zg==.png' /><img style='margin: 2px; float: left;' src='notMNIST_large/D/V2lsbC1IYXJyaXMgUmVndWxhci50dGY=.png' /><img style='margin: 2px; float: left;' src='notMNIST_large/D/R290aGFtIFJhaWwgQ29tcGFueSBORi50dGY=.png' /><img style='margin: 2px; float: left;' src='notMNIST_large/D/SW1wZXJpdW0gSG9sbG93LnR0Zg==.png' /><img style='margin: 2px; float: left;' src='notMNIST_large/D/Q3JlZXB5IEhvbGxvdy1FeHRlbmRlZCBJdGFsaWMudHRm.png' /><img style='margin: 2px; float: left;' src='notMNIST_large/D/VGlxdWV0LnR0Zg==.png' /><img style='margin: 2px; float: left;' src='notMNIST_large/D/TEEgSGVhZGxpZ2h0cyBCVE4gTHQgSXRhbGljLnR0Zg==.png' /><img style='margin: 2px; float: left;' src='notMNIST_large/D/V2lzdGVyaWFJVEMtUmVndWxhci5vdGY=.png' /><img style='margin: 2px; float: left;' src='notMNIST_large/D/QnJva2VuIFRveXMudHRm.png' /><img style='margin: 2px; float: left;' src='notMNIST_large/D/WmFwZkJvb2tJVENTdGQtSGVhdnlJdGFsaWMub3Rm.png' /><img style='margin: 2px; float: left;' src='notMNIST_large/D/V2VkZGluZyBUZXh0LnBmYg==.png' /><img style='margin: 2px; float: left;' src='notMNIST_large/D/Rm91ckp1bHlHLnR0Zg==.png' /><img style='margin: 2px; float: left;' src='notMNIST_large/D/RnV0dXJhIEx0Q24gQlQgTGlnaHQudHRm.png' /><img style='margin: 2px; float: left;' src='notMNIST_large/D/TW9vbmJhc2VBbHBoYS5vdGY=.png' /><img style='margin: 2px; float: left;' src='notMNIST_large/D/VW5jZXkudHRm.png' /><img style='margin: 2px; float: left;' src='notMNIST_large/D/TmV3czcwNiBCVCBJdGFsaWMudHRm.png' />"
      ],
      "text/plain": [
       "<IPython.core.display.HTML object>"
      ]
     },
     "metadata": {},
     "output_type": "display_data"
    },
    {
     "data": {
      "text/html": [
       "<img style='margin: 2px; float: left;' src='notMNIST_large/E/TGFuZ1x4ZjMgSXRhbGljLnR0Zg==.png' /><img style='margin: 2px; float: left;' src='notMNIST_large/E/Q29uY2llbGlhbiBKZXQudHRm.png' /><img style='margin: 2px; float: left;' src='notMNIST_large/E/UmVnaXN0cmF0aW9uLm90Zg==.png' /><img style='margin: 2px; float: left;' src='notMNIST_large/E/S2V5c3RvbmUudHRm.png' /><img style='margin: 2px; float: left;' src='notMNIST_large/E/VHdlbHZlIFRvbiBHb2xkZmlzaC50dGY=.png' /><img style='margin: 2px; float: left;' src='notMNIST_large/E/THVja3kgRm9udC50dGY=.png' /><img style='margin: 2px; float: left;' src='notMNIST_large/E/QmF1ZXJCb2RULUJvbGRJdGFsLm90Zg==.png' /><img style='margin: 2px; float: left;' src='notMNIST_large/E/TW9kdWxhUm91bmRTYW5zU21hbGxDYXBzLnR0Zg==.png' /><img style='margin: 2px; float: left;' src='notMNIST_large/E/UG9tcGVpU3RkLUxpZ2h0Lm90Zg==.png' /><img style='margin: 2px; float: left;' src='notMNIST_large/E/QmVsbFQtTWVkaS5vdGY=.png' /><img style='margin: 2px; float: left;' src='notMNIST_large/E/UGV0ZXJzTWlyb1Rvb0lUQy5vdGY=.png' /><img style='margin: 2px; float: left;' src='notMNIST_large/E/QWFqYXhTdXJyZWFsRnJlYWsudHRm.png' /><img style='margin: 2px; float: left;' src='notMNIST_large/E/QnVsbGV0aW4gUmVndWxhci50dGY=.png' /><img style='margin: 2px; float: left;' src='notMNIST_large/E/UGVuaWNpbGxpbiBBT0UudHRm.png' /><img style='margin: 2px; float: left;' src='notMNIST_large/E/R2lsbCBTU2kudHRm.png' /><img style='margin: 2px; float: left;' src='notMNIST_large/E/VG9hc3RlZCBWZWluIEJUTi50dGY=.png' /><img style='margin: 2px; float: left;' src='notMNIST_large/E/U3lyZWV0YS50dGY=.png' /><img style='margin: 2px; float: left;' src='notMNIST_large/E/RGVhdXZpbGxlU1NLIEJvbGQudHRm.png' /><img style='margin: 2px; float: left;' src='notMNIST_large/E/RmFzdEdpcmxzLUNDdXAub3Rm.png' /><img style='margin: 2px; float: left;' src='notMNIST_large/E/VWx0cmFtYWduZXRpYyBMaWdodC50dGY=.png' />"
      ],
      "text/plain": [
       "<IPython.core.display.HTML object>"
      ]
     },
     "metadata": {},
     "output_type": "display_data"
    },
    {
     "data": {
      "text/html": [
       "<img style='margin: 2px; float: left;' src='notMNIST_large/F/QnJlbmRhc0hhbmQgUmVndWxhci50dGY=.png' /><img style='margin: 2px; float: left;' src='notMNIST_large/F/U0kgVGFiLnR0Zg==.png' /><img style='margin: 2px; float: left;' src='notMNIST_large/F/VmFtcGlyLm90Zg==.png' /><img style='margin: 2px; float: left;' src='notMNIST_large/F/T3V0ZXIgTGltaXRzLnR0Zg==.png' /><img style='margin: 2px; float: left;' src='notMNIST_large/F/U291dGhCYXRzLnR0Zg==.png' /><img style='margin: 2px; float: left;' src='notMNIST_large/F/VXJiYW4udHRm.png' /><img style='margin: 2px; float: left;' src='notMNIST_large/F/RW1icnlvbmljIEluc2lkZS50dGY=.png' /><img style='margin: 2px; float: left;' src='notMNIST_large/F/Qm9uZSBSZWd1bGFyLnR0Zg==.png' /><img style='margin: 2px; float: left;' src='notMNIST_large/F/R2FyYW1vbmQgUmVwcmlzZSBPbGRTdHlsZSBTU2kgTm9ybWFsLnR0Zg==.png' /><img style='margin: 2px; float: left;' src='notMNIST_large/F/QmFyb3F1ZVRleHRKRi50dGY=.png' /><img style='margin: 2px; float: left;' src='notMNIST_large/F/TEhGIEJ1cmJhbmsgU2hhZG93LnR0Zg==.png' /><img style='margin: 2px; float: left;' src='notMNIST_large/F/TWFyY29uaUVGLUJvb2sub3Rm.png' /><img style='margin: 2px; float: left;' src='notMNIST_large/F/RWxsaW5ndG9uTVQtSXRhbGljLm90Zg==.png' /><img style='margin: 2px; float: left;' src='notMNIST_large/F/UG95bnRlck9TVGV4dFR3by1Cb2xkLm90Zg==.png' /><img style='margin: 2px; float: left;' src='notMNIST_large/F/U2NodWxzY2hyaWZ0Qi1MMi5vdGY=.png' /><img style='margin: 2px; float: left;' src='notMNIST_large/F/SW5jaXNlZCA5MDEgQm9sZCBCVC50dGY=.png' /><img style='margin: 2px; float: left;' src='notMNIST_large/F/Q29ycG9yYXRlIEEgRXhwZXJ0IEJvbGQudHRm.png' /><img style='margin: 2px; float: left;' src='notMNIST_large/F/RmVuaWNlIEJvbGQgSXRhbGljLnR0Zg==.png' /><img style='margin: 2px; float: left;' src='notMNIST_large/F/VW5pdmVyc0xUU3RkLUV4T2JsLm90Zg==.png' /><img style='margin: 2px; float: left;' src='notMNIST_large/F/TEhGQ29uY2xhdmUgUk9VTkQudHRm.png' />"
      ],
      "text/plain": [
       "<IPython.core.display.HTML object>"
      ]
     },
     "metadata": {},
     "output_type": "display_data"
    },
    {
     "data": {
      "text/html": [
       "<img style='margin: 2px; float: left;' src='notMNIST_large/G/RWxlcGhhbnQgRXh0ZW5kZWQgQm9sZEl0YWxpYy50dGY=.png' /><img style='margin: 2px; float: left;' src='notMNIST_large/G/QXJhZ29uZXMudHRm.png' /><img style='margin: 2px; float: left;' src='notMNIST_large/G/QWNoaWxsZXNCbHVyTGlnaHQtUmVndWxhci5vdGY=.png' /><img style='margin: 2px; float: left;' src='notMNIST_large/G/R291ZHkgSGFuZHRvb2xlZCBCVC50dGY=.png' /><img style='margin: 2px; float: left;' src='notMNIST_large/G/VGhlU2Fuc0xpZ2h0LVBsYWluLm90Zg==.png' /><img style='margin: 2px; float: left;' src='notMNIST_large/G/QWR2aXNvciBCbGFjayBTU2kgQmxhY2sudHRm.png' /><img style='margin: 2px; float: left;' src='notMNIST_large/G/UGxhbmV0IE5TIEV4cGFuZGVkLnR0Zg==.png' /><img style='margin: 2px; float: left;' src='notMNIST_large/G/TmFtZWxlc3MtUmVndWxhci5vdGY=.png' /><img style='margin: 2px; float: left;' src='notMNIST_large/G/SG9vZ2UwNTY0LnR0Zg==.png' /><img style='margin: 2px; float: left;' src='notMNIST_large/G/UHJpc29uIFdhbGxzLnR0Zg==.png' /><img style='margin: 2px; float: left;' src='notMNIST_large/G/R2VvIDExMiBCb2xkLnR0Zg==.png' /><img style='margin: 2px; float: left;' src='notMNIST_large/G/Q2l2aWMgQmxhY2sudHRm.png' /><img style='margin: 2px; float: left;' src='notMNIST_large/G/QmVya2VsZXktQm9sZEl0YWxpYy5vdGY=.png' /><img style='margin: 2px; float: left;' src='notMNIST_large/G/Qm9kb25pQnJ1c2hJVEMtUm9tYW4ub3Rm.png' /><img style='margin: 2px; float: left;' src='notMNIST_large/G/TWVyaWRpZW5MVFN0ZC1NZWRpdW1JdGFsaWMub3Rm.png' /><img style='margin: 2px; float: left;' src='notMNIST_large/G/VGh1bmRlcmJpcmRJQ0cub3Rm.png' /><img style='margin: 2px; float: left;' src='notMNIST_large/G/RHJ1aWxsZXQudHRm.png' /><img style='margin: 2px; float: left;' src='notMNIST_large/G/QmFrZXJTaWduZXRCVC1Sb21hbi5vdGY=.png' /><img style='margin: 2px; float: left;' src='notMNIST_large/G/RGF0YWN1dCBJdGFsaWMudHRm.png' /><img style='margin: 2px; float: left;' src='notMNIST_large/G/WW91dGhxdWFrZS50dGY=.png' />"
      ],
      "text/plain": [
       "<IPython.core.display.HTML object>"
      ]
     },
     "metadata": {},
     "output_type": "display_data"
    },
    {
     "data": {
      "text/html": [
       "<img style='margin: 2px; float: left;' src='notMNIST_large/H/RHV0Y2g4MjMgQlQgSXRhbGljLnR0Zg==.png' /><img style='margin: 2px; float: left;' src='notMNIST_large/H/SWthcnVzICBSZWd1bGFyLnR0Zg==.png' /><img style='margin: 2px; float: left;' src='notMNIST_large/H/SHVtYW5pc3Q5NzBCVC1Sb21hbkMub3Rm.png' /><img style='margin: 2px; float: left;' src='notMNIST_large/H/U0YgRm9ydHVuZSBXaGVlbCBFeHRlbmRlZCBJdGFsaWMudHRm.png' /><img style='margin: 2px; float: left;' src='notMNIST_large/H/Q2FydG9vbiBIb2xsb3cgQ29uZGVuc2VkLnR0Zg==.png' /><img style='margin: 2px; float: left;' src='notMNIST_large/H/Um9tdHlwZXdyaXRlckxpZ2h0Lm90Zg==.png' /><img style='margin: 2px; float: left;' src='notMNIST_large/H/Um9iZXNwaWVycmUub3Rm.png' /><img style='margin: 2px; float: left;' src='notMNIST_large/H/QnJhc3NldHQudHRm.png' /><img style='margin: 2px; float: left;' src='notMNIST_large/H/TEVERm9udEhDLnR0Zg==.png' /><img style='margin: 2px; float: left;' src='notMNIST_large/H/R291ZHlTYW5zRXhwZXJ0QlEtTWVkaXVtLm90Zg==.png' /><img style='margin: 2px; float: left;' src='notMNIST_large/H/THViYWxpbkJvbGQub3Rm.png' /><img style='margin: 2px; float: left;' src='notMNIST_large/H/Q29wYWwgT3V0bGluZS50dGY=.png' /><img style='margin: 2px; float: left;' src='notMNIST_large/H/TGV0dGVyIEdvdGhpYyBJdGFsaWMudHRm.png' /><img style='margin: 2px; float: left;' src='notMNIST_large/H/R3JlbmRlbCdzIE1vdGhlciBFeHBhbmRlZC50dGY=.png' /><img style='margin: 2px; float: left;' src='notMNIST_large/H/Q29iYWx0IEJvbGQudHRm.png' /><img style='margin: 2px; float: left;' src='notMNIST_large/H/TW9yZ2FuQXZlYy1Cb2xkSXRhbGljTGluaW5nLm90Zg==.png' /><img style='margin: 2px; float: left;' src='notMNIST_large/H/TmV1QWx0aXNjaFNoYWRMZWZ0LnR0Zg==.png' /><img style='margin: 2px; float: left;' src='notMNIST_large/H/Qml0c3RyZWFtIEFycnVzIEl0YWxpYy5wZmI=.png' /><img style='margin: 2px; float: left;' src='notMNIST_large/H/Qm90b25CUS1MaWdodC5vdGY=.png' /><img style='margin: 2px; float: left;' src='notMNIST_large/H/U3RlaW5iZWNrRkMtUmVnLm90Zg==.png' />"
      ],
      "text/plain": [
       "<IPython.core.display.HTML object>"
      ]
     },
     "metadata": {},
     "output_type": "display_data"
    },
    {
     "data": {
      "text/html": [
       "<img style='margin: 2px; float: left;' src='notMNIST_large/I/QUJDTG9nb3NYWVpDcmF6eS1PYmxpcXVlLnR0Zg==.png' /><img style='margin: 2px; float: left;' src='notMNIST_large/I/QW1lcmljYW5UeXBld3JpdGVyLUxpZ2h0Lm90Zg==.png' /><img style='margin: 2px; float: left;' src='notMNIST_large/I/UmVja2xtYW4ub3Rm.png' /><img style='margin: 2px; float: left;' src='notMNIST_large/I/TWVnbGFwaG9pZC50dGY=.png' /><img style='margin: 2px; float: left;' src='notMNIST_large/I/SW5rYmxvYi5vdGY=.png' /><img style='margin: 2px; float: left;' src='notMNIST_large/I/TEhGIEFyZ2VudGluZSBTb2xpZC50dGY=.png' /><img style='margin: 2px; float: left;' src='notMNIST_large/I/VHlwaXN0IEl0YWxpYy50dGY=.png' /><img style='margin: 2px; float: left;' src='notMNIST_large/I/SW5jaXNlZCA5MDEgTm9yZCBJdGFsaWMgQlQudHRm.png' /><img style='margin: 2px; float: left;' src='notMNIST_large/I/RW5lcnZhdGUudHRm.png' /><img style='margin: 2px; float: left;' src='notMNIST_large/I/Q292aW5ndG9uIEV4cC50dGY=.png' /><img style='margin: 2px; float: left;' src='notMNIST_large/I/UGFsbVNwcmluZ3MudHRm.png' /><img style='margin: 2px; float: left;' src='notMNIST_large/I/SG9saWRheSBTcHJpbmdzIEJUTiBXb2JibHkudHRm.png' /><img style='margin: 2px; float: left;' src='notMNIST_large/I/R2xhbW91cmdpcmwudHRm.png' /><img style='margin: 2px; float: left;' src='notMNIST_large/I/RGFpbHkgTmV3cyBFeHRyYSBCb2xkLnR0Zg==.png' /><img style='margin: 2px; float: left;' src='notMNIST_large/I/UGhyYWNrU2xlLnR0Zg==.png' /><img style='margin: 2px; float: left;' src='notMNIST_large/I/Rm9udG92aXNpb24gSUlJIDNEIG5vIDIudHRm.png' /><img style='margin: 2px; float: left;' src='notMNIST_large/I/RnJhbmtlbkZvbnQudHRm.png' /><img style='margin: 2px; float: left;' src='notMNIST_large/I/TW91c2VyIEl0YWxpYy50dGY=.png' /><img style='margin: 2px; float: left;' src='notMNIST_large/I/Q2hlbHRlbmhhbVN0ZC1Cb29rQ29uZC5vdGY=.png' /><img style='margin: 2px; float: left;' src='notMNIST_large/I/VmVydGlnbyBCUksudHRm.png' />"
      ],
      "text/plain": [
       "<IPython.core.display.HTML object>"
      ]
     },
     "metadata": {},
     "output_type": "display_data"
    },
    {
     "data": {
      "text/html": [
       "<img style='margin: 2px; float: left;' src='notMNIST_large/J/R2FsbGlhcmRTdGQtQmxhY2tJdGFsaWMub3Rm.png' /><img style='margin: 2px; float: left;' src='notMNIST_large/J/TWF0cml4Qm9va0xpbmluZy5vdGY=.png' /><img style='margin: 2px; float: left;' src='notMNIST_large/J/V2FybG9yZHMgTm9ybWFsLnR0Zg==.png' /><img style='margin: 2px; float: left;' src='notMNIST_large/J/T3B0aW1hIExIIEVhc3RBIEJvbGQudHRm.png' /><img style='margin: 2px; float: left;' src='notMNIST_large/J/Q2xhcmVuZG9uLnBmYg==.png' /><img style='margin: 2px; float: left;' src='notMNIST_large/J/TGl0aG9zLUV4dHJhTGlnaHQub3Rm.png' /><img style='margin: 2px; float: left;' src='notMNIST_large/J/U3RvbmVTZXJpZlNDRUYtTWVkaXVtLm90Zg==.png' /><img style='margin: 2px; float: left;' src='notMNIST_large/J/Q2Fyb2xpbmFMVFN0ZC5vdGY=.png' /><img style='margin: 2px; float: left;' src='notMNIST_large/J/RG9tRGlhZ29uYWxCVC1SZWd1bGFyLm90Zg==.png' /><img style='margin: 2px; float: left;' src='notMNIST_large/J/aXRhbGljIDA4XzY2LnR0Zg==.png' /><img style='margin: 2px; float: left;' src='notMNIST_large/J/TW9yZ2FuUG9zdGVyLVJlZ3VsYXIub3Rm.png' /><img style='margin: 2px; float: left;' src='notMNIST_large/J/RkZYIERlc2lnbmVyIEhXLnR0Zg==.png' /><img style='margin: 2px; float: left;' src='notMNIST_large/J/RmVnZ29saXRlSGF0Y2hlZC50dGY=.png' /><img style='margin: 2px; float: left;' src='notMNIST_large/J/TW9yZ2FuU25DYXBzLm90Zg==.png' /><img style='margin: 2px; float: left;' src='notMNIST_large/J/UHJlc3RpZ2VFbGl0ZS1Cb2xkU2xhbnRlZC5vdGY=.png' /><img style='margin: 2px; float: left;' src='notMNIST_large/J/SGVsdmV0aWNhTFRTdGQtQmxrQ29uZC5vdGY=.png' /><img style='margin: 2px; float: left;' src='notMNIST_large/J/T3NwYUMub3Rm.png' /><img style='margin: 2px; float: left;' src='notMNIST_large/J/QW1pZW5uZSBMaWdhdHVyZXMgQm9sZC50dGY=.png' /><img style='margin: 2px; float: left;' src='notMNIST_large/J/d21pbnNlY3RzMS50dGY=.png' /><img style='margin: 2px; float: left;' src='notMNIST_large/J/Qm9kb25pIFJlY3V0IENvbmRlbnNlZCBTU2kgQm9sZCBDb25kZW5zZWQudHRm.png' />"
      ],
      "text/plain": [
       "<IPython.core.display.HTML object>"
      ]
     },
     "metadata": {},
     "output_type": "display_data"
    }
   ],
   "source": [
    "from IPython.display import HTML\n",
    "from os import listdir\n",
    "import random\n",
    "\n",
    "\n",
    "for ch in 'ABCDEFGHIJ':\n",
    "    d = 'notMNIST_large/' + ch\n",
    "    files = listdir(d)\n",
    "    a = [d+'/'+random.choice(files) for i in range(0,20)]\n",
    "    imagesList=''.join( [\"<img style='margin: 2px; float: left;' src='%s' />\" % s for s in a])\n",
    "    display(HTML(imagesList))\n"
   ]
  },
  {
   "cell_type": "markdown",
   "metadata": {
    "colab_type": "text",
    "id": "PBdkjESPK8tw"
   },
   "source": [
    "Now let's load the data in a more manageable format. Since, depending on your computer setup you might not be able to fit it all in memory, we'll load each class into a separate dataset, store them on disk and curate them independently. Later we'll merge them into a single dataset of manageable size.\n",
    "\n",
    "We'll convert the entire dataset into a 3D array (image index, x, y) of floating point values, normalized to have approximately zero mean and standard deviation ~0.5 to make training easier down the road. \n",
    "\n",
    "A few images might not be readable, we'll just skip them."
   ]
  },
  {
   "cell_type": "code",
   "execution_count": 6,
   "metadata": {
    "cellView": "both",
    "colab": {
     "autoexec": {
      "startup": false,
      "wait_interval": 0
     },
     "output_extras": [
      {
       "item_id": 30
      }
     ]
    },
    "colab_type": "code",
    "collapsed": false,
    "executionInfo": {
     "elapsed": 399874,
     "status": "ok",
     "timestamp": 1444485886378,
     "user": {
      "color": "#1FA15D",
      "displayName": "Vincent Vanhoucke",
      "isAnonymous": false,
      "isMe": true,
      "permissionId": "05076109866853157986",
      "photoUrl": "//lh6.googleusercontent.com/-cCJa7dTDcgQ/AAAAAAAAAAI/AAAAAAAACgw/r2EZ_8oYer4/s50-c-k-no/photo.jpg",
      "sessionId": "2a0a5e044bb03b66",
      "userId": "102167687554210253930"
     },
     "user_tz": 420
    },
    "id": "h7q0XhG3MJdf",
    "outputId": "92c391bb-86ff-431d-9ada-315568a19e59"
   },
   "outputs": [
    {
     "name": "stdout",
     "output_type": "stream",
     "text": [
      "Pickling notMNIST_large/A.pickle.\n",
      "notMNIST_large/A\n",
      "Could not read: notMNIST_large/A/RnJlaWdodERpc3BCb29rSXRhbGljLnR0Zg==.png : cannot identify image file 'notMNIST_large/A/RnJlaWdodERpc3BCb29rSXRhbGljLnR0Zg==.png' - it's ok, skipping.\n",
      "Could not read: notMNIST_large/A/SG90IE11c3RhcmQgQlROIFBvc3Rlci50dGY=.png : cannot identify image file 'notMNIST_large/A/SG90IE11c3RhcmQgQlROIFBvc3Rlci50dGY=.png' - it's ok, skipping.\n",
      "Could not read: notMNIST_large/A/Um9tYW5hIEJvbGQucGZi.png : cannot identify image file 'notMNIST_large/A/Um9tYW5hIEJvbGQucGZi.png' - it's ok, skipping.\n",
      "Full dataset tensor: (52909, 28, 28)\n",
      "Mean: -0.12825\n",
      "Standard deviation: 0.443121\n",
      "Pickling notMNIST_large/B.pickle.\n",
      "notMNIST_large/B\n",
      "Could not read: notMNIST_large/B/TmlraXNFRi1TZW1pQm9sZEl0YWxpYy5vdGY=.png : cannot identify image file 'notMNIST_large/B/TmlraXNFRi1TZW1pQm9sZEl0YWxpYy5vdGY=.png' - it's ok, skipping.\n",
      "Full dataset tensor: (52911, 28, 28)\n",
      "Mean: -0.00756303\n",
      "Standard deviation: 0.454491\n",
      "Pickling notMNIST_large/C.pickle.\n",
      "notMNIST_large/C\n",
      "Full dataset tensor: (52912, 28, 28)\n",
      "Mean: -0.142258\n",
      "Standard deviation: 0.439806\n",
      "Pickling notMNIST_large/D.pickle.\n",
      "notMNIST_large/D\n",
      "Could not read: notMNIST_large/D/VHJhbnNpdCBCb2xkLnR0Zg==.png : cannot identify image file 'notMNIST_large/D/VHJhbnNpdCBCb2xkLnR0Zg==.png' - it's ok, skipping.\n",
      "Full dataset tensor: (52911, 28, 28)\n",
      "Mean: -0.0573678\n",
      "Standard deviation: 0.455648\n",
      "Pickling notMNIST_large/E.pickle.\n",
      "notMNIST_large/E\n",
      "Full dataset tensor: (52912, 28, 28)\n",
      "Mean: -0.069899\n",
      "Standard deviation: 0.452942\n",
      "Pickling notMNIST_large/F.pickle.\n",
      "notMNIST_large/F\n",
      "Full dataset tensor: (52912, 28, 28)\n",
      "Mean: -0.125583\n",
      "Standard deviation: 0.44709\n",
      "Pickling notMNIST_large/G.pickle.\n",
      "notMNIST_large/G\n",
      "Full dataset tensor: (52912, 28, 28)\n",
      "Mean: -0.0945814\n",
      "Standard deviation: 0.44624\n",
      "Pickling notMNIST_large/H.pickle.\n",
      "notMNIST_large/H\n",
      "Full dataset tensor: (52912, 28, 28)\n",
      "Mean: -0.0685221\n",
      "Standard deviation: 0.454232\n",
      "Pickling notMNIST_large/I.pickle.\n",
      "notMNIST_large/I\n",
      "Full dataset tensor: (52912, 28, 28)\n",
      "Mean: 0.0307862\n",
      "Standard deviation: 0.468899\n",
      "Pickling notMNIST_large/J.pickle.\n",
      "notMNIST_large/J\n",
      "Full dataset tensor: (52911, 28, 28)\n",
      "Mean: -0.153358\n",
      "Standard deviation: 0.443656\n",
      "Pickling notMNIST_small/A.pickle.\n",
      "notMNIST_small/A\n",
      "Could not read: notMNIST_small/A/RGVtb2NyYXRpY2FCb2xkT2xkc3R5bGUgQm9sZC50dGY=.png : cannot identify image file 'notMNIST_small/A/RGVtb2NyYXRpY2FCb2xkT2xkc3R5bGUgQm9sZC50dGY=.png' - it's ok, skipping.\n",
      "Full dataset tensor: (1872, 28, 28)\n",
      "Mean: -0.132626\n",
      "Standard deviation: 0.445128\n",
      "Pickling notMNIST_small/B.pickle.\n",
      "notMNIST_small/B\n",
      "Full dataset tensor: (1873, 28, 28)\n",
      "Mean: 0.00535609\n",
      "Standard deviation: 0.457115\n",
      "Pickling notMNIST_small/C.pickle.\n",
      "notMNIST_small/C\n",
      "Full dataset tensor: (1873, 28, 28)\n",
      "Mean: -0.141521\n",
      "Standard deviation: 0.44269\n",
      "Pickling notMNIST_small/D.pickle.\n",
      "notMNIST_small/D\n",
      "Full dataset tensor: (1873, 28, 28)\n",
      "Mean: -0.0492167\n",
      "Standard deviation: 0.459759\n",
      "Pickling notMNIST_small/E.pickle.\n",
      "notMNIST_small/E\n",
      "Full dataset tensor: (1873, 28, 28)\n",
      "Mean: -0.0599148\n",
      "Standard deviation: 0.45735\n",
      "Pickling notMNIST_small/F.pickle.\n",
      "notMNIST_small/F\n",
      "Could not read: notMNIST_small/F/Q3Jvc3NvdmVyIEJvbGRPYmxpcXVlLnR0Zg==.png : cannot identify image file 'notMNIST_small/F/Q3Jvc3NvdmVyIEJvbGRPYmxpcXVlLnR0Zg==.png' - it's ok, skipping.\n",
      "Full dataset tensor: (1872, 28, 28)\n",
      "Mean: -0.118185\n",
      "Standard deviation: 0.452279\n",
      "Pickling notMNIST_small/G.pickle.\n",
      "notMNIST_small/G\n",
      "Full dataset tensor: (1872, 28, 28)\n",
      "Mean: -0.0925503\n",
      "Standard deviation: 0.449006\n",
      "Pickling notMNIST_small/H.pickle.\n",
      "notMNIST_small/H\n",
      "Full dataset tensor: (1872, 28, 28)\n",
      "Mean: -0.0586893\n",
      "Standard deviation: 0.458759\n",
      "Pickling notMNIST_small/I.pickle.\n",
      "notMNIST_small/I\n",
      "Full dataset tensor: (1872, 28, 28)\n",
      "Mean: 0.0526451\n",
      "Standard deviation: 0.471894\n",
      "Pickling notMNIST_small/J.pickle.\n",
      "notMNIST_small/J\n",
      "Full dataset tensor: (1872, 28, 28)\n",
      "Mean: -0.151689\n",
      "Standard deviation: 0.448014\n"
     ]
    }
   ],
   "source": [
    "image_size = 28  # Pixel width and height.\n",
    "pixel_depth = 255.0  # Number of levels per pixel.\n",
    "\n",
    "def load_letter(folder, min_num_images):\n",
    "  \"\"\"Load the data for a single letter label.\"\"\"\n",
    "  image_files = os.listdir(folder)\n",
    "  dataset = np.ndarray(shape=(len(image_files), image_size, image_size),\n",
    "                         dtype=np.float32)\n",
    "  print(folder)\n",
    "  num_images = 0\n",
    "  for image in image_files:\n",
    "    image_file = os.path.join(folder, image)\n",
    "    try:\n",
    "      image_data = (ndimage.imread(image_file).astype(float) - \n",
    "                    pixel_depth / 2) / pixel_depth\n",
    "      if image_data.shape != (image_size, image_size):\n",
    "        raise Exception('Unexpected image shape: %s' % str(image_data.shape))\n",
    "      dataset[num_images, :, :] = image_data\n",
    "      num_images = num_images + 1\n",
    "    except IOError as e:\n",
    "      print('Could not read:', image_file, ':', e, '- it\\'s ok, skipping.')\n",
    "    \n",
    "  dataset = dataset[0:num_images, :, :]\n",
    "  if num_images < min_num_images:\n",
    "    raise Exception('Many fewer images than expected: %d < %d' %\n",
    "                    (num_images, min_num_images))\n",
    "    \n",
    "  print('Full dataset tensor:', dataset.shape)\n",
    "  print('Mean:', np.mean(dataset))\n",
    "  print('Standard deviation:', np.std(dataset))\n",
    "  return dataset\n",
    "        \n",
    "def maybe_pickle(data_folders, min_num_images_per_class, force=False):\n",
    "  dataset_names = []\n",
    "  for folder in data_folders:\n",
    "    set_filename = folder + '.pickle'\n",
    "    dataset_names.append(set_filename)\n",
    "    if os.path.exists(set_filename) and not force:\n",
    "      # You may override by setting force=True.\n",
    "      print('%s already present - Skipping pickling.' % set_filename)\n",
    "    else:\n",
    "      print('Pickling %s.' % set_filename)\n",
    "      dataset = load_letter(folder, min_num_images_per_class)\n",
    "      try:\n",
    "        with open(set_filename, 'wb') as f:\n",
    "          pickle.dump(dataset, f, pickle.HIGHEST_PROTOCOL)\n",
    "      except Exception as e:\n",
    "        print('Unable to save data to', set_filename, ':', e)\n",
    "  \n",
    "  return dataset_names\n",
    "\n",
    "train_datasets = maybe_pickle(train_folders, 45000)\n",
    "test_datasets = maybe_pickle(test_folders, 1800)"
   ]
  },
  {
   "cell_type": "markdown",
   "metadata": {
    "colab_type": "text",
    "id": "vUdbskYE2d87"
   },
   "source": [
    "---\n",
    "Problem 2\n",
    "---------\n",
    "\n",
    "Let's verify that the data still looks good. Displaying a sample of the labels and images from the ndarray. Hint: you can use matplotlib.pyplot.\n",
    "\n",
    "---"
   ]
  },
  {
   "cell_type": "code",
   "execution_count": 19,
   "metadata": {
    "collapsed": false
   },
   "outputs": [
    {
     "data": {
      "text/plain": [
       "<matplotlib.image.AxesImage at 0x11f3a2f28>"
      ]
     },
     "execution_count": 19,
     "metadata": {},
     "output_type": "execute_result"
    },
    {
     "data": {
      "image/png": "[encoded data removed]",
      "text/plain": [
       "<matplotlib.figure.Figure at 0x11d2bec18>"
      ]
     },
     "metadata": {},
     "output_type": "display_data"
    }
   ],
   "source": [
    "a = pickle.load(open('notMNIST_large/F.pickle', 'rb'))\n",
    "plt.imshow(a[1234])"
   ]
  },
  {
   "cell_type": "markdown",
   "metadata": {
    "colab_type": "text",
    "id": "cYznx5jUwzoO"
   },
   "source": [
    "---\n",
    "Problem 3\n",
    "---------\n",
    "Another check: we expect the data to be balanced across classes. Verify that.\n",
    "\n",
    "---"
   ]
  },
  {
   "cell_type": "code",
   "execution_count": 26,
   "metadata": {
    "collapsed": false
   },
   "outputs": [
    {
     "name": "stdout",
     "output_type": "stream",
     "text": [
      "A 52909\n",
      "B 52911\n",
      "C 52912\n",
      "D 52911\n",
      "E 52912\n",
      "F 52912\n",
      "G 52912\n",
      "H 52912\n",
      "I 52912\n",
      "J 52911\n"
     ]
    }
   ],
   "source": [
    "for ch in 'ABCDEFGHIJ':\n",
    "    d = 'notMNIST_large/' + ch + '.pickle'\n",
    "    b = pickle.load(open(d,'rb'))\n",
    "    print(ch, b.shape[0])\n"
   ]
  },
  {
   "cell_type": "markdown",
   "metadata": {
    "colab_type": "text",
    "id": "LA7M7K22ynCt"
   },
   "source": [
    "Merge and prune the training data as needed. Depending on your computer setup, you might not be able to fit it all in memory, and you can tune `train_size` as needed. The labels will be stored into a separate array of integers 0 through 9.\n",
    "\n",
    "Also create a validation dataset for hyperparameter tuning."
   ]
  },
  {
   "cell_type": "code",
   "execution_count": 27,
   "metadata": {
    "cellView": "both",
    "colab": {
     "autoexec": {
      "startup": false,
      "wait_interval": 0
     },
     "output_extras": [
      {
       "item_id": 1
      }
     ]
    },
    "colab_type": "code",
    "collapsed": false,
    "executionInfo": {
     "elapsed": 411281,
     "status": "ok",
     "timestamp": 1444485897869,
     "user": {
      "color": "#1FA15D",
      "displayName": "Vincent Vanhoucke",
      "isAnonymous": false,
      "isMe": true,
      "permissionId": "05076109866853157986",
      "photoUrl": "//lh6.googleusercontent.com/-cCJa7dTDcgQ/AAAAAAAAAAI/AAAAAAAACgw/r2EZ_8oYer4/s50-c-k-no/photo.jpg",
      "sessionId": "2a0a5e044bb03b66",
      "userId": "102167687554210253930"
     },
     "user_tz": 420
    },
    "id": "s3mWgZLpyuzq",
    "outputId": "8af66da6-902d-4719-bedc-7c9fb7ae7948"
   },
   "outputs": [
    {
     "name": "stdout",
     "output_type": "stream",
     "text": [
      "Training: (200000, 28, 28) (200000,)\n",
      "Validation: (10000, 28, 28) (10000,)\n",
      "Testing: (10000, 28, 28) (10000,)\n"
     ]
    }
   ],
   "source": [
    "def make_arrays(nb_rows, img_size):\n",
    "  if nb_rows:\n",
    "    dataset = np.ndarray((nb_rows, img_size, img_size), dtype=np.float32)\n",
    "    labels = np.ndarray(nb_rows, dtype=np.int32)\n",
    "  else:\n",
    "    dataset, labels = None, None\n",
    "  return dataset, labels\n",
    "\n",
    "def merge_datasets(pickle_files, train_size, valid_size=0):\n",
    "  num_classes = len(pickle_files)\n",
    "  valid_dataset, valid_labels = make_arrays(valid_size, image_size)\n",
    "  train_dataset, train_labels = make_arrays(train_size, image_size)\n",
    "  vsize_per_class = valid_size // num_classes\n",
    "  tsize_per_class = train_size // num_classes\n",
    "    \n",
    "  start_v, start_t = 0, 0\n",
    "  end_v, end_t = vsize_per_class, tsize_per_class\n",
    "  end_l = vsize_per_class+tsize_per_class\n",
    "  for label, pickle_file in enumerate(pickle_files):       \n",
    "    try:\n",
    "      with open(pickle_file, 'rb') as f:\n",
    "        letter_set = pickle.load(f)\n",
    "        # let's shuffle the letters to have random validation and training set\n",
    "        np.random.shuffle(letter_set)\n",
    "        if valid_dataset is not None:\n",
    "          valid_letter = letter_set[:vsize_per_class, :, :]\n",
    "          valid_dataset[start_v:end_v, :, :] = valid_letter\n",
    "          valid_labels[start_v:end_v] = label\n",
    "          start_v += vsize_per_class\n",
    "          end_v += vsize_per_class\n",
    "                    \n",
    "        train_letter = letter_set[vsize_per_class:end_l, :, :]\n",
    "        train_dataset[start_t:end_t, :, :] = train_letter\n",
    "        train_labels[start_t:end_t] = label\n",
    "        start_t += tsize_per_class\n",
    "        end_t += tsize_per_class\n",
    "    except Exception as e:\n",
    "      print('Unable to process data from', pickle_file, ':', e)\n",
    "      raise\n",
    "    \n",
    "  return valid_dataset, valid_labels, train_dataset, train_labels\n",
    "            \n",
    "            \n",
    "train_size = 200000\n",
    "valid_size = 10000\n",
    "test_size = 10000\n",
    "\n",
    "valid_dataset, valid_labels, train_dataset, train_labels = merge_datasets(\n",
    "  train_datasets, train_size, valid_size)\n",
    "_, _, test_dataset, test_labels = merge_datasets(test_datasets, test_size)\n",
    "\n",
    "print('Training:', train_dataset.shape, train_labels.shape)\n",
    "print('Validation:', valid_dataset.shape, valid_labels.shape)\n",
    "print('Testing:', test_dataset.shape, test_labels.shape)"
   ]
  },
  {
   "cell_type": "markdown",
   "metadata": {
    "colab_type": "text",
    "id": "GPTCnjIcyuKN"
   },
   "source": [
    "Next, we'll randomize the data. It's important to have the labels well shuffled for the training and test distributions to match."
   ]
  },
  {
   "cell_type": "code",
   "execution_count": 28,
   "metadata": {
    "cellView": "both",
    "colab": {
     "autoexec": {
      "startup": false,
      "wait_interval": 0
     }
    },
    "colab_type": "code",
    "collapsed": true,
    "id": "6WZ2l2tN2zOL"
   },
   "outputs": [],
   "source": [
    "def randomize(dataset, labels):\n",
    "  permutation = np.random.permutation(labels.shape[0])\n",
    "  shuffled_dataset = dataset[permutation,:,:]\n",
    "  shuffled_labels = labels[permutation]\n",
    "  return shuffled_dataset, shuffled_labels\n",
    "train_dataset, train_labels = randomize(train_dataset, train_labels)\n",
    "test_dataset, test_labels = randomize(test_dataset, test_labels)\n",
    "valid_dataset, valid_labels = randomize(valid_dataset, valid_labels)"
   ]
  },
  {
   "cell_type": "markdown",
   "metadata": {
    "colab_type": "text",
    "id": "puDUTe6t6USl"
   },
   "source": [
    "---\n",
    "Problem 4\n",
    "---------\n",
    "Convince yourself that the data is still good after shuffling!\n",
    "\n",
    "---"
   ]
  },
  {
   "cell_type": "markdown",
   "metadata": {
    "colab_type": "text",
    "id": "tIQJaJuwg5Hw"
   },
   "source": [
    "Finally, let's save the data for later reuse:"
   ]
  },
  {
   "cell_type": "code",
   "execution_count": 29,
   "metadata": {
    "cellView": "both",
    "colab": {
     "autoexec": {
      "startup": false,
      "wait_interval": 0
     }
    },
    "colab_type": "code",
    "collapsed": true,
    "id": "QiR_rETzem6C"
   },
   "outputs": [],
   "source": [
    "pickle_file = 'notMNIST.pickle'\n",
    "\n",
    "try:\n",
    "  f = open(pickle_file, 'wb')\n",
    "  save = {\n",
    "    'train_dataset': train_dataset,\n",
    "    'train_labels': train_labels,\n",
    "    'valid_dataset': valid_dataset,\n",
    "    'valid_labels': valid_labels,\n",
    "    'test_dataset': test_dataset,\n",
    "    'test_labels': test_labels,\n",
    "    }\n",
    "  pickle.dump(save, f, pickle.HIGHEST_PROTOCOL)\n",
    "  f.close()\n",
    "except Exception as e:\n",
    "  print('Unable to save data to', pickle_file, ':', e)\n",
    "  raise"
   ]
  },
  {
   "cell_type": "code",
   "execution_count": 30,
   "metadata": {
    "cellView": "both",
    "colab": {
     "autoexec": {
      "startup": false,
      "wait_interval": 0
     },
     "output_extras": [
      {
       "item_id": 1
      }
     ]
    },
    "colab_type": "code",
    "collapsed": false,
    "executionInfo": {
     "elapsed": 413065,
     "status": "ok",
     "timestamp": 1444485899688,
     "user": {
      "color": "#1FA15D",
      "displayName": "Vincent Vanhoucke",
      "isAnonymous": false,
      "isMe": true,
      "permissionId": "05076109866853157986",
      "photoUrl": "//lh6.googleusercontent.com/-cCJa7dTDcgQ/AAAAAAAAAAI/AAAAAAAACgw/r2EZ_8oYer4/s50-c-k-no/photo.jpg",
      "sessionId": "2a0a5e044bb03b66",
      "userId": "102167687554210253930"
     },
     "user_tz": 420
    },
    "id": "hQbLjrW_iT39",
    "outputId": "b440efc6-5ee1-4cbc-d02d-93db44ebd956"
   },
   "outputs": [
    {
     "name": "stdout",
     "output_type": "stream",
     "text": [
      "Compressed pickle size: 690800503\n"
     ]
    }
   ],
   "source": [
    "statinfo = os.stat(pickle_file)\n",
    "print('Compressed pickle size:', statinfo.st_size)"
   ]
  },
  {
   "cell_type": "markdown",
   "metadata": {
    "colab_type": "text",
    "id": "gE_cRAQB33lk"
   },
   "source": [
    "---\n",
    "Problem 5\n",
    "---------\n",
    "\n",
    "By construction, this dataset might contain a lot of overlapping samples, including training data that's also contained in the validation and test set! Overlap between training and test can skew the results if you expect to use your model in an environment where there is never an overlap, but are actually ok if you expect to see training samples recur when you use it.\n",
    "Measure how much overlap there is between training, validation and test samples.\n",
    "\n",
    "Optional questions:\n",
    "- What about near duplicates between datasets? (images that are almost identical)\n",
    "- Create a sanitized validation and test set, and compare your accuracy on those in subsequent assignments.\n",
    "---"
   ]
  },
  {
   "cell_type": "markdown",
   "metadata": {
    "colab_type": "text",
    "id": "L8oww1s4JMQx"
   },
   "source": [
    "---\n",
    "Problem 6\n",
    "---------\n",
    "\n",
    "Let's get an idea of what an off-the-shelf classifier can give you on this data. It's always good to check that there is something to learn, and that it's a problem that is not so trivial that a canned solution solves it.\n",
    "\n",
    "Train a simple model on this data using 50, 100, 1000 and 5000 training samples. Hint: you can use the LogisticRegression model from sklearn.linear_model.\n",
    "\n",
    "Optional question: train an off-the-shelf model on all the data!\n",
    "\n",
    "---"
   ]
  },
  {
   "cell_type": "code",
   "execution_count": null,
   "metadata": {
    "collapsed": false
   },
   "outputs": [],
   "source": [
    "import random\n",
    "\n",
    "img_size = 28\n",
    "\n",
    "d = pickle.load(open('notMNIST.pickle', 'rb'))\n",
    "\n",
    "X_train = d['train_dataset'].reshape(d['train_dataset'].shape[0], img_size*img_size)\n",
    "y_train = d['train_labels']\n",
    "X_valid = d['valid_dataset'].reshape(d['valid_dataset'].shape[0], img_size*img_size)\n",
    "y_valid = d['valid_labels']\n",
    "X_test = d['test_dataset'].reshape(d['test_dataset'].shape[0], img_size*img_size)\n",
    "y_test = d['test_labels']\n",
    "\n",
    "def model_with_sample():\n",
    "    ds_sizes = [50, 100, 1000, 5000]\n",
    "    for s in ds_sizes:\n",
    "        clf = LogisticRegression()\n",
    "        idx = random.sample(range(len(y_train)), s)\n",
    "        print('Training classifier')\n",
    "        clf.fit(X_train[idx,:], y_train[idx])\n",
    "        print('Training done')\n",
    "\n",
    "        print('Validation')\n",
    "        v_acc = clf.score(X_valid, y_valid)\n",
    "        print('test')\n",
    "        t_acc = clf.score(X_test, y_test)\n",
    "\n",
    "        print(s, v_acc, t_acc)\n",
    "        print('-----')\n",
    "\n",
    "def model_full_dataset():\n",
    "    clf = LogisticRegression()\n",
    "    print('Training classifier')\n",
    "    clf.fit(X_train, y_train)\n",
    "    \n",
    "#     print('Validation')\n",
    "#     v_acc = clf.score(X_valid, y_valid)\n",
    "    \n",
    "    print('test')\n",
    "    t_acc = clf.score(X_test, y_test)\n",
    "\n",
    "    print(t_acc)\n",
    "\n",
    "model_full_dataset()"
   ]
  },
  {
   "cell_type": "code",
   "execution_count": null,
   "metadata": {
    "collapsed": true
   },
   "outputs": [],
   "source": []
  }
 ],
 "metadata": {
  "colab": {
   "default_view": {},
   "name": "1_notmnist.ipynb",
   "provenance": [],
   "version": "0.3.2",
   "views": {}
  },
  "kernelspec": {
   "display_name": "Python 3",
   "language": "python",
   "name": "python3"
  },
  "language_info": {
   "codemirror_mode": {
    "name": "ipython",
    "version": 3
   },
   "file_extension": ".py",
   "mimetype": "text/x-python",
   "name": "python",
   "nbconvert_exporter": "python",
   "pygments_lexer": "ipython3",
   "version": "3.5.1"
  }
 },
 "nbformat": 4,
 "nbformat_minor": 0
}
